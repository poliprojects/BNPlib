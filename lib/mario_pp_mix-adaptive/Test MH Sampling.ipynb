{
 "cells": [
  {
   "cell_type": "code",
   "execution_count": 1,
   "metadata": {},
   "outputs": [
    {
     "ename": "ModuleNotFoundError",
     "evalue": "No module named 'jax'",
     "output_type": "error",
     "traceback": [
      "\u001b[0;31m---------------------------------------------------------------------------\u001b[0m",
      "\u001b[0;31mModuleNotFoundError\u001b[0m                       Traceback (most recent call last)",
      "\u001b[0;32m<ipython-input-1-78ddd28ea8d4>\u001b[0m in \u001b[0;36m<module>\u001b[0;34m\u001b[0m\n\u001b[1;32m      5\u001b[0m \u001b[0;34m\u001b[0m\u001b[0m\n\u001b[1;32m      6\u001b[0m \u001b[0;32mfrom\u001b[0m \u001b[0mpp_mix\u001b[0m\u001b[0;34m.\u001b[0m\u001b[0msimulation\u001b[0m\u001b[0;34m.\u001b[0m\u001b[0mconditional_mh\u001b[0m \u001b[0;32mimport\u001b[0m \u001b[0mConditionalMH\u001b[0m\u001b[0;34m\u001b[0m\u001b[0;34m\u001b[0m\u001b[0m\n\u001b[0;32m----> 7\u001b[0;31m \u001b[0;32mfrom\u001b[0m \u001b[0mpp_mix\u001b[0m\u001b[0;34m.\u001b[0m\u001b[0msimulation\u001b[0m\u001b[0;34m.\u001b[0m\u001b[0mbirth_death\u001b[0m \u001b[0;32mimport\u001b[0m \u001b[0mBirthDeathMH\u001b[0m\u001b[0;34m,\u001b[0m \u001b[0mSpatialBirthAndDeath\u001b[0m\u001b[0;34m\u001b[0m\u001b[0;34m\u001b[0m\u001b[0m\n\u001b[0m\u001b[1;32m      8\u001b[0m \u001b[0;32mfrom\u001b[0m \u001b[0mpp_mix\u001b[0m\u001b[0;34m.\u001b[0m\u001b[0msimulation\u001b[0m\u001b[0;34m.\u001b[0m\u001b[0mcftp\u001b[0m \u001b[0;32mimport\u001b[0m \u001b[0mSimpleDominatedCftp\u001b[0m\u001b[0;34m\u001b[0m\u001b[0;34m\u001b[0m\u001b[0m\n",
      "\u001b[0;32m~/PhD/finiteDPP/pp_mix/pp_mix/simulation/birth_death.py\u001b[0m in \u001b[0;36m<module>\u001b[0;34m\u001b[0m\n\u001b[0;32m----> 1\u001b[0;31m \u001b[0;32mimport\u001b[0m \u001b[0mjax\u001b[0m\u001b[0;34m.\u001b[0m\u001b[0mnumpy\u001b[0m \u001b[0;32mas\u001b[0m \u001b[0mnp\u001b[0m\u001b[0;34m\u001b[0m\u001b[0;34m\u001b[0m\u001b[0m\n\u001b[0m\u001b[1;32m      2\u001b[0m \u001b[0;32mfrom\u001b[0m \u001b[0mjax\u001b[0m \u001b[0;32mimport\u001b[0m \u001b[0mrandom\u001b[0m\u001b[0;34m\u001b[0m\u001b[0;34m\u001b[0m\u001b[0m\n\u001b[1;32m      3\u001b[0m \u001b[0;34m\u001b[0m\u001b[0m\n\u001b[1;32m      4\u001b[0m \u001b[0;32mimport\u001b[0m \u001b[0mpp_mix\u001b[0m\u001b[0;34m.\u001b[0m\u001b[0mutils\u001b[0m \u001b[0;32mas\u001b[0m \u001b[0mutils\u001b[0m\u001b[0;34m\u001b[0m\u001b[0;34m\u001b[0m\u001b[0m\n\u001b[1;32m      5\u001b[0m \u001b[0;34m\u001b[0m\u001b[0m\n",
      "\u001b[0;31mModuleNotFoundError\u001b[0m: No module named 'jax'"
     ]
    }
   ],
   "source": [
    "import matplotlib.pyplot as plt\n",
    "import numpy as np\n",
    "from scipy import stats\n",
    "from sklearn.metrics import pairwise_distances\n",
    "\n",
    "from pp_mix.simulation.conditional_mh import ConditionalMH\n",
    "from pp_mix.simulation.birth_death import BirthDeathMH, SpatialBirthAndDeath\n",
    "from pp_mix.simulation.cftp import SimpleDominatedCftp"
   ]
  },
  {
   "cell_type": "markdown",
   "metadata": {},
   "source": [
    "# Conditional MH"
   ]
  },
  {
   "cell_type": "markdown",
   "metadata": {},
   "source": [
    "### Poisson Process on [0, 1]"
   ]
  },
  {
   "cell_type": "code",
   "execution_count": 2,
   "metadata": {},
   "outputs": [],
   "source": [
    "def papangelou(csi, x, log=True):\n",
    "    out = np.sum(stats.beta.logpdf(csi, 0.5, 0.5))\n",
    "    if not log:\n",
    "        out = np.exp(out)\n",
    "    return out\n",
    "\n",
    "\n",
    "def proposal_rng(state, ind):\n",
    "    return stats.multivariate_normal.rvs(mean=state[ind, :], cov=0.1*np.eye(2))\n",
    "\n",
    "\n",
    "def proposal_dens(x, prev_state, ind, log=True):\n",
    "    out = stats.multivariate_normal.logpdf(\n",
    "        x[ind], mean=prev_state[ind, :], cov=0.1*np.eye(2))\n",
    "    if not log:\n",
    "        out = np.exp(out)\n",
    "    return out"
   ]
  },
  {
   "cell_type": "code",
   "execution_count": null,
   "metadata": {},
   "outputs": [],
   "source": [
    "npoints = 30\n",
    "init_state = np.random.uniform(size=npoints*2).reshape(npoints, 2)"
   ]
  },
  {
   "cell_type": "code",
   "execution_count": null,
   "metadata": {},
   "outputs": [],
   "source": [
    "mh = ConditionalMH(npoints, papangelou, proposal_rng, proposal_dens)\n",
    "chain = mh.run(1000, 1000, init_state)"
   ]
  },
  {
   "cell_type": "code",
   "execution_count": null,
   "metadata": {},
   "outputs": [],
   "source": [
    "ind = 10\n",
    "plt.scatter(chain[ind, :, 0], chain[ind, :, 1])"
   ]
  },
  {
   "cell_type": "markdown",
   "metadata": {},
   "source": [
    "### Strauss process"
   ]
  },
  {
   "cell_type": "code",
   "execution_count": 3,
   "metadata": {},
   "outputs": [],
   "source": [
    "gamma = 0.1\n",
    "R = 0.3\n",
    "scale = 0.2\n",
    "\n",
    "\n",
    "def papangelou(csi, x, log=True):\n",
    "    dists = pairwise_distances(x, csi.reshape(1, -1))\n",
    "    out = np.log(gamma) * np.sum(dists <= R)\n",
    "    if not log:\n",
    "        out = np.exp(out)\n",
    "    return out\n",
    "\n",
    "def proposal_rng(state, ind):\n",
    "    mean = state[ind, :]\n",
    "    a = (0 - mean) / scale\n",
    "    b = (1 - mean) / scale\n",
    "\n",
    "    return stats.truncnorm.rvs(a, b, loc=mean, scale=scale)\n",
    "\n",
    "\n",
    "def proposal_dens(x, prev_state, ind, log=True):\n",
    "    mean = prev_state[ind, :]\n",
    "    a = (0 - mean) / scale\n",
    "    b = (1 - mean) / scale\n",
    "    \n",
    "    out = np.sum(stats.truncnorm.logpdf(x[ind, :], a, b, loc=mean, scale=scale))\n",
    "    if not log:\n",
    "        out = np.exp(out)\n",
    "    return out"
   ]
  },
  {
   "cell_type": "code",
   "execution_count": null,
   "metadata": {},
   "outputs": [],
   "source": [
    "mh = ConditionalMH(npoints, papangelou, proposal_rng, proposal_dens)\n",
    "chain = mh.run(1000, 1000, init_state)"
   ]
  },
  {
   "cell_type": "code",
   "execution_count": null,
   "metadata": {},
   "outputs": [],
   "source": [
    "ind = 905\n",
    "plt.scatter(chain[ind, :, 0], chain[ind, :, 1])"
   ]
  },
  {
   "cell_type": "markdown",
   "metadata": {},
   "source": [
    "# Birth and Death MH"
   ]
  },
  {
   "cell_type": "code",
   "execution_count": null,
   "metadata": {},
   "outputs": [],
   "source": [
    "import jax.numpy as np\n",
    "from jax import random\n",
    "\n",
    "class Rng(object):\n",
    "    def __init__(self):\n",
    "        self.key = random.PRNGKey(0)\n",
    "    \n",
    "    \n",
    "    def get(self):\n",
    "        _, self.key = random.split(self.key)\n",
    "        return self.key\n",
    "    \n",
    "\n",
    "rng = Rng()"
   ]
  },
  {
   "cell_type": "markdown",
   "metadata": {},
   "source": [
    "### Poisson Process"
   ]
  },
  {
   "cell_type": "code",
   "execution_count": null,
   "metadata": {},
   "outputs": [],
   "source": [
    "def papangelou(csi, x, log=True):\n",
    "    out = np.sum(stats.beta.logpdf(csi, 0.5, 0.5))\n",
    "    if not log:\n",
    "        out = np.exp(out)\n",
    "    return out\n",
    "\n",
    "\n",
    "def update_proposal_rng(state, ind):\n",
    "    return stats.multivariate_normal.rvs(mean=state[ind, :], cov=0.1*np.eye(2))\n",
    "\n",
    "def update_proposal_dens(x, prev_state, ind, log=True):\n",
    "    out = stats.multivariate_normal.logpdf(\n",
    "        x[ind], mean=prev_state[ind, :], cov=0.1*np.eye(2))\n",
    "    if not log:\n",
    "        out = np.exp(out)\n",
    "    return out\n",
    "\n",
    "\n",
    "def birth_proposal_rng(state):\n",
    "    mean = np.array([0.5, 0.5])\n",
    "    a = (0 - mean) / 0.5\n",
    "    b = (1 - mean) / 0.5\n",
    "\n",
    "    return stats.truncnorm.rvs(a, b, loc=mean, scale=0.5)\n",
    "\n",
    "\n",
    "def birth_proposal_dens(x, state, log=True):\n",
    "    mean = np.array([0.5, 0.5])\n",
    "    a = (0 - mean) / 0.5\n",
    "    b = (1 - mean) / 0.5\n",
    "    \n",
    "    out = np.sum(stats.truncnorm.logpdf(x, a, b, loc=mean, scale=0.5))\n",
    "    if not log:\n",
    "        out = np.exp(out)\n",
    "    return out"
   ]
  },
  {
   "cell_type": "code",
   "execution_count": null,
   "metadata": {},
   "outputs": [],
   "source": [
    "npoints = 100\n",
    "init_state = np.random.uniform(size=npoints*2).reshape(npoints, 2)"
   ]
  },
  {
   "cell_type": "code",
   "execution_count": null,
   "metadata": {},
   "outputs": [],
   "source": [
    "bdmh = BirthDeathMH(papangelou, birth_proposal_rng, birth_proposal_dens,\n",
    "                    update_proposal_rng, update_proposal_dens)\n",
    "\n",
    "chains = bdmh.run(rng, 1000, 1000, init_state)"
   ]
  },
  {
   "cell_type": "code",
   "execution_count": null,
   "metadata": {},
   "outputs": [],
   "source": [
    "index = 900\n",
    "plt.scatter(chains[index][:, 0], chains[index][:, 1])"
   ]
  },
  {
   "cell_type": "markdown",
   "metadata": {},
   "source": [
    "## Strauss Process"
   ]
  },
  {
   "cell_type": "code",
   "execution_count": null,
   "metadata": {},
   "outputs": [],
   "source": [
    "gamma = 0.1\n",
    "R = 0.3\n",
    "scale = 0.2\n",
    "\n",
    "\n",
    "def papangelou(csi, x, log=True):\n",
    "    dists = pairwise_distances(x, csi.reshape(1, -1))\n",
    "    out = np.log(gamma) * np.sum(dists <= R)\n",
    "    if not log:\n",
    "        out = np.exp(out)\n",
    "    return out\n",
    "\n",
    "def update_proposal_rng(state, ind):\n",
    "    mean = state[ind, :]\n",
    "    a = (0 - mean) / scale\n",
    "    b = (1 - mean) / scale\n",
    "\n",
    "    return stats.truncnorm.rvs(a, b, loc=mean, scale=scale)\n",
    "\n",
    "\n",
    "def update_proposal_dens(x, prev_state, ind, log=True):\n",
    "    mean = prev_state[ind, :]\n",
    "    a = (0 - mean) / scale\n",
    "    b = (1 - mean) / scale\n",
    "    \n",
    "    out = np.sum(stats.truncnorm.logpdf(x[ind, :], a, b, loc=mean, scale=scale))\n",
    "    if not log:\n",
    "        out = np.exp(out)\n",
    "    return out\n",
    "\n",
    "\n",
    "def birth_proposal_rng(state):\n",
    "    mean = np.array([0.5, 0.5])\n",
    "    a = (0 - mean) / 0.5\n",
    "    b = (1 - mean) / 0.5\n",
    "\n",
    "    return stats.truncnorm.rvs(a, b, loc=mean, scale=0.5)\n",
    "\n",
    "\n",
    "def birth_proposal_dens(x, state, log=True):\n",
    "    mean = np.array([0.5, 0.5])\n",
    "    a = (0 - mean) / 0.5\n",
    "    b = (1 - mean) / 0.5\n",
    "    \n",
    "    out = np.sum(stats.truncnorm.logpdf(x, a, b, loc=mean, scale=0.5))\n",
    "    if not log:\n",
    "        out = np.exp(out)\n",
    "    return out"
   ]
  },
  {
   "cell_type": "code",
   "execution_count": null,
   "metadata": {},
   "outputs": [],
   "source": [
    "npoints = 100\n",
    "init_state = random.uniform(rng.get(), (npoints*2,)).reshape(npoints, 2)"
   ]
  },
  {
   "cell_type": "code",
   "execution_count": null,
   "metadata": {},
   "outputs": [],
   "source": [
    "bdmh = BirthDeathMH(papangelou, birth_proposal_rng, birth_proposal_dens,\n",
    "                    update_proposal_rng, update_proposal_dens)\n",
    "\n",
    "chains = bdmh.run(rng, 10000, 10000, init_state)"
   ]
  },
  {
   "cell_type": "code",
   "execution_count": null,
   "metadata": {},
   "outputs": [],
   "source": [
    "index = 8296\n",
    "plt.scatter(chains[index][:, 0], chains[index][:, 1])"
   ]
  },
  {
   "cell_type": "code",
   "execution_count": null,
   "metadata": {},
   "outputs": [],
   "source": [
    "nums = np.array([x.shape[0] for x in chains])\n",
    "plt.hist(nums)\n",
    "plt.show()"
   ]
  },
  {
   "cell_type": "markdown",
   "metadata": {},
   "source": [
    "# Spatial Birth and Death"
   ]
  },
  {
   "cell_type": "code",
   "execution_count": null,
   "metadata": {},
   "outputs": [],
   "source": [
    "beta = 200\n",
    "gamma = 0.9\n",
    "R = 0.5\n",
    "scale = 0.2\n",
    "\n",
    "\n",
    "def papangelou(csi, x, log=True):\n",
    "    if x.shape[0] == 0:\n",
    "        out = 0\n",
    "    else:\n",
    "        dists = pairwise_distances(x, csi.reshape(1, -1))\n",
    "        out = np.log(gamma) * np.sum(dists <= R)\n",
    "    if not log:\n",
    "        out = np.exp(out)\n",
    "    return out\n",
    "\n",
    "def phi_star_rng():\n",
    "    return np.random.uniform(size=2)\n",
    "\n",
    "def phi_star_dens(csi, log=True):\n",
    "    out = 0;\n",
    "    if not log:\n",
    "        out = np.exp(out)\n",
    "    return out\n",
    "\n",
    "def dens(x, log=True):\n",
    "    dists = pairwise_distances(x)\n",
    "    out = np.sum(np.log(beta) * x.shape[1])\n",
    "    out += np.log(gamma) * np.sum(dists <= R)\n",
    "    if not log:\n",
    "        out = np.exp(out)\n",
    "    return out\n",
    "\n",
    "c_star = beta"
   ]
  },
  {
   "cell_type": "code",
   "execution_count": null,
   "metadata": {},
   "outputs": [],
   "source": [
    "npoints = 100\n",
    "init_state = random.uniform(rng.get(), (npoints*2,)).reshape(npoints, 2)"
   ]
  },
  {
   "cell_type": "code",
   "execution_count": null,
   "metadata": {},
   "outputs": [],
   "source": [
    "spbd = SpatialBirthAndDeath(dens, papangelou, phi_star_rng, phi_star_dens, c_star)\n",
    "\n",
    "chains = spbd.run(rng, 10000, 10000, init_state)"
   ]
  },
  {
   "cell_type": "code",
   "execution_count": null,
   "metadata": {},
   "outputs": [],
   "source": [
    "nums = np.array([x.shape[0] for x in chains])\n",
    "plt.plot(np.arange(len(nums)), nums)"
   ]
  },
  {
   "cell_type": "code",
   "execution_count": null,
   "metadata": {},
   "outputs": [],
   "source": [
    "index = 101\n",
    "plt.scatter(chains[index][:, 0], chains[index][:, 1])"
   ]
  },
  {
   "cell_type": "markdown",
   "metadata": {},
   "source": [
    "## Coupling From the Past"
   ]
  },
  {
   "cell_type": "code",
   "execution_count": null,
   "metadata": {},
   "outputs": [],
   "source": [
    "import matplotlib.pyplot as plt\n",
    "import numpy as np\n",
    "from scipy import stats\n",
    "from sklearn.metrics import pairwise_distances\n",
    "\n",
    "from pp_mix.simulation.cftp import SimpleDominatedCftp, PerfectStrauss"
   ]
  },
  {
   "cell_type": "code",
   "execution_count": null,
   "metadata": {},
   "outputs": [],
   "source": [
    "beta = 10\n",
    "gamma = 0.3\n",
    "R = 0.1\n",
    "scale = 0.2\n",
    "\n",
    "\n",
    "def papangelou(csi, x, log=True):\n",
    "    if x.shape[0] == 0:\n",
    "        out = 0\n",
    "    else:\n",
    "        dists = pairwise_distances(x, csi.reshape(1, -1))\n",
    "        out = np.log(gamma) * np.sum(dists <= R)\n",
    "    if not log:\n",
    "        out = np.exp(out)\n",
    "    return out\n",
    "\n",
    "def phi_star_rng():\n",
    "    return np.random.uniform(size=2)\n",
    "\n",
    "def phi_star_dens(csi, log=True):\n",
    "    out = 0;\n",
    "    if not log:\n",
    "        out = np.exp(out)\n",
    "    return out\n",
    "\n",
    "def dens(x, log=True):\n",
    "    dists = pairwise_distances(x)\n",
    "    out = np.sum(np.log(beta) * x.shape[1])\n",
    "    out += np.log(gamma) * np.sum(dists <= R)\n",
    "    if not log:\n",
    "        out = np.exp(out)\n",
    "    return out\n",
    "\n",
    "c_star = beta"
   ]
  },
  {
   "cell_type": "code",
   "execution_count": null,
   "metadata": {},
   "outputs": [],
   "source": [
    "cftp = SimpleDominatedCftp(papangelou, phi_star_rng, phi_star_dens, 7, 1)\n",
    "out = cftp.run_one()\n",
    "if out is not None:\n",
    "    plt.scatter(out[:, 0], out[:, 1])"
   ]
  },
  {
   "cell_type": "code",
   "execution_count": null,
   "metadata": {
    "scrolled": true
   },
   "outputs": [],
   "source": [
    "cftp = PerfectStrauss(papangelou, phi_star_rng, phi_star_dens, 5, 1)\n",
    "out = cftp.run()\n",
    "if out is not None:\n",
    "    plt.scatter(out[:, 0], out[:, 1])"
   ]
  },
  {
   "cell_type": "code",
   "execution_count": null,
   "metadata": {},
   "outputs": [],
   "source": [
    "ranges = np.array([[0, 1], [2, 5], [0, 10]])"
   ]
  },
  {
   "cell_type": "code",
   "execution_count": null,
   "metadata": {},
   "outputs": [],
   "source": [
    "a = np.random.uniform(size=(10, 3))\n",
    "(a + ranges[:, 0]) * np.diff(ranges, axis=1).reshape(3,)"
   ]
  },
  {
   "cell_type": "code",
   "execution_count": null,
   "metadata": {},
   "outputs": [],
   "source": [
    "np.prod(np.diff(ranges, axis=1).reshape(3,))"
   ]
  },
  {
   "cell_type": "code",
   "execution_count": null,
   "metadata": {},
   "outputs": [],
   "source": [
    "a = [1, 2, 3]\n",
    "a.remove(1)"
   ]
  },
  {
   "cell_type": "code",
   "execution_count": 38,
   "metadata": {},
   "outputs": [],
   "source": [
    "import numpy as np\n",
    "from scipy.linalg import cho_solve, cho_factor\n",
    "from scipy.stats import multivariate_normal\n",
    "from math import pi\n",
    "\n",
    "def multi_normal_lpdf(x, mu, sigma):\n",
    "    sig_chol = cho_factor(sigma)\n",
    "    logdet = 2 * np.sum(np.log(sig_chol[0].diagonal()))\n",
    "    x_min_mu = x - mu\n",
    "    if (x.shape != mu.shape):\n",
    "        sols = [cho_solve(sig_chol, x_min_mu[i, :]) for i in range(x.shape[0])]\n",
    "    else:\n",
    "        sols = [cho_solve(sig_chol, x_min_mu)]\n",
    "\n",
    "    out = -0.5 * (np.sum(x_min_mu * sols, axis=1) + logdet + len(mu) * np.log(2 * pi))\n",
    "    return out"
   ]
  },
  {
   "cell_type": "code",
   "execution_count": 39,
   "metadata": {},
   "outputs": [
    {
     "name": "stdout",
     "output_type": "stream",
     "text": [
      "[-2.95442836]\n",
      "-2.954428362103635\n"
     ]
    }
   ],
   "source": [
    "x = np.ones(2)\n",
    "mu = np.array([0, 0])\n",
    "sigma = np.array([[2, 0.3], [0.3, 2]])\n",
    "\n",
    "print(multi_normal_lpdf(x, mu, sigma))\n",
    "print(multivariate_normal.logpdf(x, mu, sigma))"
   ]
  },
  {
   "cell_type": "code",
   "execution_count": 28,
   "metadata": {},
   "outputs": [
    {
     "data": {
      "text/plain": [
       "0.8695652173913044"
      ]
     },
     "execution_count": 28,
     "metadata": {},
     "output_type": "execute_result"
    }
   ],
   "source": [
    "sig_chol = cho_factor(sigma)\n",
    "logdet = np.sum(np.log(sig_chol[0].diagonal()))\n",
    "\n",
    "x_min_mu = x - mu\n",
    "sol = cho_solve(sig_chol, x_min_mu)\n",
    "np.dot(x_min_mu.T, sol)"
   ]
  },
  {
   "cell_type": "code",
   "execution_count": 37,
   "metadata": {},
   "outputs": [
    {
     "data": {
      "text/plain": [
       "1.3635373739972745"
      ]
     },
     "execution_count": 37,
     "metadata": {},
     "output_type": "execute_result"
    }
   ],
   "source": [
    "2 * logdet"
   ]
  },
  {
   "cell_type": "code",
   "execution_count": 33,
   "metadata": {},
   "outputs": [
    {
     "data": {
      "text/plain": [
       "1.3635373739972745"
      ]
     },
     "execution_count": 33,
     "metadata": {},
     "output_type": "execute_result"
    }
   ],
   "source": [
    "np.log(np.linalg.det(sigma))"
   ]
  },
  {
   "cell_type": "code",
   "execution_count": 31,
   "metadata": {},
   "outputs": [
    {
     "data": {
      "text/plain": [
       "array([0.86956522])"
      ]
     },
     "execution_count": 31,
     "metadata": {},
     "output_type": "execute_result"
    }
   ],
   "source": [
    "np.sum(x_min_mu * [sol], axis=1)"
   ]
  },
  {
   "cell_type": "code",
   "execution_count": 27,
   "metadata": {},
   "outputs": [
    {
     "data": {
      "text/plain": [
       "0.8695652173913044"
      ]
     },
     "execution_count": 27,
     "metadata": {},
     "output_type": "execute_result"
    }
   ],
   "source": [
    "np.dot(x_min_mu, np.dot(np.linalg.inv(sigma), x_min_mu))"
   ]
  }
 ],
 "metadata": {
  "kernelspec": {
   "display_name": "Python 3",
   "language": "python",
   "name": "python3"
  },
  "language_info": {
   "codemirror_mode": {
    "name": "ipython",
    "version": 3
   },
   "file_extension": ".py",
   "mimetype": "text/x-python",
   "name": "python",
   "nbconvert_exporter": "python",
   "pygments_lexer": "ipython3",
   "version": "3.8.0"
  }
 },
 "nbformat": 4,
 "nbformat_minor": 4
}
